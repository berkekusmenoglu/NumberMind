{
  "nbformat": 4,
  "nbformat_minor": 0,
  "metadata": {
    "colab": {
      "provenance": []
    },
    "kernelspec": {
      "name": "python3",
      "display_name": "Python 3"
    },
    "language_info": {
      "name": "python"
    }
  },
  "cells": [
    {
      "cell_type": "markdown",
      "metadata": {
        "id": "v5m3UVGuewok"
      },
      "source": [
        "#**Knowledge and Data Mining Project**\n",
        "\n",
        "\n",
        "---\n",
        "#**Number Mind**\n",
        "**PROF.LUCIANO SERAFINI**\n",
        "\n",
        "**Berke Furkan Kusmenoglu** \n",
        "\n",
        "**2041496**\n",
        "\n",
        "**berkefurkan.kusmenoglu@studenti.unipd.it**"
      ]
    },
    {
      "cell_type": "code",
      "execution_count": 19,
      "metadata": {
        "colab": {
          "base_uri": "https://localhost:8080/"
        },
        "id": "SJXSl5kXYA1m",
        "outputId": "37ee265b-012a-4ecb-c20a-4ad7326e5089"
      },
      "outputs": [
        {
          "output_type": "stream",
          "name": "stdout",
          "text": [
            "Looking in indexes: https://pypi.org/simple, https://us-python.pkg.dev/colab-wheels/public/simple/\n",
            "Requirement already satisfied: python-sat in /usr/local/lib/python3.8/dist-packages (0.1.7.dev26)\n",
            "Requirement already satisfied: six in /usr/local/lib/python3.8/dist-packages (from python-sat) (1.15.0)\n"
          ]
        }
      ],
      "source": [
        " !pip install python-sat"
      ]
    },
    {
      "cell_type": "code",
      "source": [
        "import numpy as np\n",
        "from pysat.solvers import Minisat22\n",
        "from time import process_time\n",
        "from random import randint\n",
        "from itertools import combinations\n"
      ],
      "metadata": {
        "id": "pzNPj-birjlc"
      },
      "execution_count": 20,
      "outputs": []
    },
    {
      "cell_type": "code",
      "source": [
        "def get_unique_integer(n: int, p: int, size: int) -> int:\n",
        "    return n * size + p + 1\n",
        "\n",
        "for n in range(10):\n",
        "    for p in range(5):\n",
        "        print(f\"get_unique_integer({n}, {p}, 5) ----> {get_unique_integer(n, p, 5)}\")\n"
      ],
      "metadata": {
        "id": "NC0NuouHgUvT",
        "colab": {
          "base_uri": "https://localhost:8080/"
        },
        "outputId": "396e36f8-09d8-47ca-9f1e-8f400472063d"
      },
      "execution_count": 21,
      "outputs": [
        {
          "output_type": "stream",
          "name": "stdout",
          "text": [
            "get_unique_integer(0, 0, 5) ----> 1\n",
            "get_unique_integer(0, 1, 5) ----> 2\n",
            "get_unique_integer(0, 2, 5) ----> 3\n",
            "get_unique_integer(0, 3, 5) ----> 4\n",
            "get_unique_integer(0, 4, 5) ----> 5\n",
            "get_unique_integer(1, 0, 5) ----> 6\n",
            "get_unique_integer(1, 1, 5) ----> 7\n",
            "get_unique_integer(1, 2, 5) ----> 8\n",
            "get_unique_integer(1, 3, 5) ----> 9\n",
            "get_unique_integer(1, 4, 5) ----> 10\n",
            "get_unique_integer(2, 0, 5) ----> 11\n",
            "get_unique_integer(2, 1, 5) ----> 12\n",
            "get_unique_integer(2, 2, 5) ----> 13\n",
            "get_unique_integer(2, 3, 5) ----> 14\n",
            "get_unique_integer(2, 4, 5) ----> 15\n",
            "get_unique_integer(3, 0, 5) ----> 16\n",
            "get_unique_integer(3, 1, 5) ----> 17\n",
            "get_unique_integer(3, 2, 5) ----> 18\n",
            "get_unique_integer(3, 3, 5) ----> 19\n",
            "get_unique_integer(3, 4, 5) ----> 20\n",
            "get_unique_integer(4, 0, 5) ----> 21\n",
            "get_unique_integer(4, 1, 5) ----> 22\n",
            "get_unique_integer(4, 2, 5) ----> 23\n",
            "get_unique_integer(4, 3, 5) ----> 24\n",
            "get_unique_integer(4, 4, 5) ----> 25\n",
            "get_unique_integer(5, 0, 5) ----> 26\n",
            "get_unique_integer(5, 1, 5) ----> 27\n",
            "get_unique_integer(5, 2, 5) ----> 28\n",
            "get_unique_integer(5, 3, 5) ----> 29\n",
            "get_unique_integer(5, 4, 5) ----> 30\n",
            "get_unique_integer(6, 0, 5) ----> 31\n",
            "get_unique_integer(6, 1, 5) ----> 32\n",
            "get_unique_integer(6, 2, 5) ----> 33\n",
            "get_unique_integer(6, 3, 5) ----> 34\n",
            "get_unique_integer(6, 4, 5) ----> 35\n",
            "get_unique_integer(7, 0, 5) ----> 36\n",
            "get_unique_integer(7, 1, 5) ----> 37\n",
            "get_unique_integer(7, 2, 5) ----> 38\n",
            "get_unique_integer(7, 3, 5) ----> 39\n",
            "get_unique_integer(7, 4, 5) ----> 40\n",
            "get_unique_integer(8, 0, 5) ----> 41\n",
            "get_unique_integer(8, 1, 5) ----> 42\n",
            "get_unique_integer(8, 2, 5) ----> 43\n",
            "get_unique_integer(8, 3, 5) ----> 44\n",
            "get_unique_integer(8, 4, 5) ----> 45\n",
            "get_unique_integer(9, 0, 5) ----> 46\n",
            "get_unique_integer(9, 1, 5) ----> 47\n",
            "get_unique_integer(9, 2, 5) ----> 48\n",
            "get_unique_integer(9, 3, 5) ----> 49\n",
            "get_unique_integer(9, 4, 5) ----> 50\n"
          ]
        }
      ]
    },
    {
      "cell_type": "code",
      "source": [
        "def encode(encoded_guess):\n",
        "    return [get_unique_integer(int(x),i,len(encoded_guess)) for i,x in enumerate(encoded_guess)]\n",
        "\n",
        "def decode(encoded_guess):\n",
        "    size = len(encoded_guess)\n",
        "    decoded_guess = [0] * size\n",
        "    for n in encoded_guess:\n",
        "        for p in range(size):\n",
        "            if (n - 1 - p) % len(encoded_guess) == 0:\n",
        "                decoded_guess[p] = (n - 1 - p)/size\n",
        "                break\n",
        "    decoded_guess = ''.join(str(int(x)) for x in decoded_guess)\n",
        "    return decoded_guess\n",
        "\n",
        "def check_right(encoded_guess, encoded_code):\n",
        "    count = 0\n",
        "    for guess_num in encoded_guess:\n",
        "        if guess_num in encoded_code:\n",
        "            count += 1\n",
        "    return count\n",
        "\n",
        "def append_clauses(encoded_guess, num_correct, s):\n",
        "    if num_correct == 0:\n",
        "        for x in encoded_guess:\n",
        "            s.add_clause([-int(x)])\n",
        "    else:\n",
        "        least_k = combinations(encoded_guess, len(encoded_guess) - num_correct + 1)\n",
        "        most_k = combinations(encoded_guess, num_correct + 1)\n",
        "        \n",
        "        for clause in least_k:\n",
        "            s.add_clause([int(x) for x in clause])\n",
        "        \n",
        "        for clause in most_k:\n",
        "            s.add_clause([-int(x) for x in clause])\n",
        "        \n",
        "    return s"
      ],
      "metadata": {
        "id": "gQm3YTSngup8"
      },
      "execution_count": 22,
      "outputs": []
    },
    {
      "cell_type": "code",
      "source": [
        "def NumberMind():\n",
        "    start_time = process_time()\n",
        "    correct_num = 0\n",
        "    stop = False\n",
        "    digit = 5\n",
        "    \n",
        "    # Generate a secret code\n",
        "    secret_code = np.random.randint(0, 10, digit)\n",
        "    print(f\"Secret Code : {int(''.join(map(str, secret_code)))}\")\n",
        "    print(\"##############################################\")\n",
        "    \n",
        "    # Encode the secret code and initial guess\n",
        "    encoded_code = [get_unique_integer(int(x), i, digit) for i, x in enumerate(secret_code)]\n",
        "    initial_guess = np.random.randint(0, 10, digit)\n",
        "    encoded_guess = [get_unique_integer(int(x), i, digit) for i, x in enumerate(initial_guess)]\n",
        "\n",
        "    # Initialize a solver\n",
        "    solver = Minisat22()\n",
        "\n",
        "    # Add constraints for exactly one number in each position\n",
        "    for row in range(digit):\n",
        "        pos_vars = [get_unique_integer(n, row, digit) for n in range(10)]\n",
        "        solver.add_clause(pos_vars)\n",
        "\n",
        "    # Add constraints for at most one number in each position\n",
        "    for row in range(digit):\n",
        "        for n in range(10):\n",
        "            for n1 in range(n+1, 10):\n",
        "                solver.add_clause([-get_unique_integer(n, row, digit), -get_unique_integer(n1, row, digit)])\n",
        "\n",
        "    #Round-1\n",
        "    counter = 1; \n",
        "    # Guess the secret code\n",
        "    while not stop:\n",
        "        new_guess = []\n",
        "        number_of_right = check_right(encoded_guess, encoded_code)  # Count the right digits in the guess\n",
        "        \n",
        "        # Check if the guess is right\n",
        "        print(\"You are in the:\" ,counter, \"round\")\n",
        "        print(f\"Guess is: {decode(encoded_guess)}\")\n",
        "        print(\"The number of correct digits:\" ,number_of_right)\n",
        "        print(\"##############################################\")\n",
        "        if number_of_right == digit:\n",
        "            stop = True\n",
        "            \n",
        "        # Add clauses based on the guess\n",
        "        solver = append_clauses(encoded_guess, number_of_right, solver)\n",
        "        solver.solve()\n",
        "                \n",
        "        # Get the new guess from the model\n",
        "        for model in solver.enum_models():\n",
        "            new_guess = [x for x in model if x > 0]\n",
        "            break\n",
        "        \n",
        "        # Update the guess\n",
        "        encoded_guess = new_guess\n",
        "        counter = counter + 1\n",
        "    end_time = process_time()\n",
        "    print(f\"CPU time: {end_time - start_time}\")"
      ],
      "metadata": {
        "id": "0ydDD5Hqg8ND"
      },
      "execution_count": 23,
      "outputs": []
    },
    {
      "cell_type": "code",
      "source": [
        "NumberMind()"
      ],
      "metadata": {
        "colab": {
          "base_uri": "https://localhost:8080/"
        },
        "id": "E0Zeaf8gg8QM",
        "outputId": "28c87be5-789d-4413-b35c-e65ac5638577"
      },
      "execution_count": 24,
      "outputs": [
        {
          "output_type": "stream",
          "name": "stdout",
          "text": [
            "Secret Code : 29961\n",
            "##############################################\n",
            "You are in the: 1 round\n",
            "Guess is: 38588\n",
            "The number of correct digits: 0\n",
            "##############################################\n",
            "You are in the: 2 round\n",
            "Guess is: 00000\n",
            "The number of correct digits: 0\n",
            "##############################################\n",
            "You are in the: 3 round\n",
            "Guess is: 91111\n",
            "The number of correct digits: 1\n",
            "##############################################\n",
            "You are in the: 4 round\n",
            "Guess is: 89122\n",
            "The number of correct digits: 1\n",
            "##############################################\n",
            "You are in the: 5 round\n",
            "Guess is: 97992\n",
            "The number of correct digits: 1\n",
            "##############################################\n",
            "You are in the: 6 round\n",
            "Guess is: 87819\n",
            "The number of correct digits: 0\n",
            "##############################################\n",
            "You are in the: 7 round\n",
            "Guess is: 11232\n",
            "The number of correct digits: 0\n",
            "##############################################\n",
            "You are in the: 8 round\n",
            "Guess is: 99347\n",
            "The number of correct digits: 1\n",
            "##############################################\n",
            "You are in the: 9 round\n",
            "Guess is: 74197\n",
            "The number of correct digits: 0\n",
            "##############################################\n",
            "You are in the: 10 round\n",
            "Guess is: 95723\n",
            "The number of correct digits: 0\n",
            "##############################################\n",
            "You are in the: 11 round\n",
            "Guess is: 29971\n",
            "The number of correct digits: 4\n",
            "##############################################\n",
            "You are in the: 12 round\n",
            "Guess is: 29961\n",
            "The number of correct digits: 5\n",
            "##############################################\n",
            "CPU time: 0.015904680000005555\n"
          ]
        }
      ]
    }
  ]
}